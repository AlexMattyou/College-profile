{
 "cells": [
  {
   "cell_type": "markdown",
   "metadata": {},
   "source": [
    "### 4: SVD for Dimensionality Reduction and Predict Missing Values"
   ]
  },
  {
   "cell_type": "code",
   "execution_count": 1,
   "metadata": {},
   "outputs": [],
   "source": [
    "import numpy as np\n",
    "from numpy.linalg import svd"
   ]
  },
  {
   "cell_type": "code",
   "execution_count": 3,
   "metadata": {},
   "outputs": [],
   "source": [
    "user_item_matrix = np.array([\n",
    "    [5, 3, 0, 1],\n",
    "    [4, 0, 0, 1],\n",
    "    [1, 1, 0, 5],\n",
    "    [1, 0, 0, 4],\n",
    "    [0, 1, 5, 4]\n",
    "])"
   ]
  },
  {
   "cell_type": "code",
   "execution_count": 4,
   "metadata": {},
   "outputs": [
    {
     "data": {
      "text/plain": [
       "array([3.        , 2.5       , 2.33333333, 2.5       , 3.33333333])"
      ]
     },
     "execution_count": 4,
     "metadata": {},
     "output_type": "execute_result"
    }
   ],
   "source": [
    "mean_values = np.mean(user_item_matrix, axis=1, where=user_item_matrix > 0)\n",
    "mean_values"
   ]
  },
  {
   "cell_type": "code",
   "execution_count": 5,
   "metadata": {},
   "outputs": [
    {
     "data": {
      "text/plain": [
       "array([[5.        , 3.        , 3.        , 1.        ],\n",
       "       [4.        , 2.5       , 2.5       , 1.        ],\n",
       "       [1.        , 1.        , 2.33333333, 5.        ],\n",
       "       [1.        , 2.5       , 2.5       , 4.        ],\n",
       "       [3.33333333, 1.        , 5.        , 4.        ]])"
      ]
     },
     "execution_count": 5,
     "metadata": {},
     "output_type": "execute_result"
    }
   ],
   "source": [
    "filled_matrix = np.where(user_item_matrix == 0, mean_values[:, None], user_item_matrix)\n",
    "filled_matrix"
   ]
  },
  {
   "cell_type": "code",
   "execution_count": 8,
   "metadata": {},
   "outputs": [
    {
     "name": "stdout",
     "output_type": "stream",
     "text": [
      "[[-0.47166674 -0.58024539  0.16459262 -0.17449958]\n",
      " [-0.39309835 -0.43945778  0.16147424 -0.10623152]\n",
      " [-0.38714828  0.56626474  0.12730154 -0.71641801]\n",
      " [-0.39386745  0.35398301  0.59912132  0.59909475]\n",
      " [-0.56390496  0.15566766 -0.75609741  0.2934203 ]] \n",
      "\n",
      " [12.51754739  5.17031988  2.12655091  0.78239144] \n",
      "\n",
      " [[-0.52657488 -0.34619146 -0.56762602 -0.52978399]\n",
      " [-0.62276961 -0.23837803  0.0280833   0.74467796]\n",
      " [-0.15284928  0.83067416 -0.51171283  0.15737698]\n",
      " [-0.5581344   0.36511344  0.64433067 -0.37418732]] \n",
      "\n",
      " [[12.51754739  0.          0.          0.        ]\n",
      " [ 0.          5.17031988  0.          0.        ]\n",
      " [ 0.          0.          2.12655091  0.        ]\n",
      " [ 0.          0.          0.          0.78239144]]\n"
     ]
    }
   ],
   "source": [
    "U, sigma, Vt = svd(filled_matrix, full_matrices=False)\n",
    "sigma_diag = np.diag(sigma)\n",
    "print(U, '\\n\\n', sigma,'\\n\\n', Vt, '\\n\\n', sigma_diag )"
   ]
  },
  {
   "cell_type": "code",
   "execution_count": null,
   "metadata": {},
   "outputs": [],
   "source": []
  }
 ],
 "metadata": {
  "kernelspec": {
   "display_name": ".venv",
   "language": "python",
   "name": "python3"
  },
  "language_info": {
   "codemirror_mode": {
    "name": "ipython",
    "version": 3
   },
   "file_extension": ".py",
   "mimetype": "text/x-python",
   "name": "python",
   "nbconvert_exporter": "python",
   "pygments_lexer": "ipython3",
   "version": "3.10.8"
  }
 },
 "nbformat": 4,
 "nbformat_minor": 2
}
